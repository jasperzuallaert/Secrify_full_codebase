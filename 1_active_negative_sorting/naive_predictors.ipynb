{
 "cells": [
  {
   "cell_type": "markdown",
   "metadata": {},
   "source": [
    "# What if we evaluated the datasets with some very naïve predictors?\n",
    "- based on sequence length\n",
    "- based on %aa\n",
    "- combination of both"
   ]
  },
  {
   "cell_type": "code",
   "execution_count": 37,
   "metadata": {},
   "outputs": [],
   "source": [
    "import pandas as pd\n",
    "from sklearn.metrics import auc, roc_curve\n",
    "\n",
    "train_datasets = [\n",
    "    'processed_data/2023_fc1_train.csv',\n",
    "    'processed_data/oldPp_fc1_train.csv',\n",
    "    'processed_data/old_naive_train.csv',\n",
    "    'processed_data_v1.1_notransfer/2023_fc1_train.csv',\n",
    "    'processed_data_v1.2_nominlen/2023_fc1_train.csv',\n",
    "    'processed_data_v1.2_nominlen/oldPp_fc1_train.csv',\n",
    "    'processed_data_v1.2_nominlen/old_naive_train.csv',\n",
    "]\n",
    "\n",
    "test_datasets = [\n",
    "    'processed_data/2023_fc1_test.csv',\n",
    "    'processed_data/oldPp_fc1_test.csv',\n",
    "    'processed_data/old_naive_test.csv',\n",
    "    'processed_data_v1.1_notransfer/2023_fc1_test.csv',\n",
    "    'processed_data_v1.2_nominlen/2023_fc1_test.csv',\n",
    "    'processed_data_v1.2_nominlen/oldPp_fc1_test.csv',\n",
    "    'processed_data_v1.2_nominlen/old_naive_test.csv',\n",
    "]\n",
    "\n"
   ]
  },
  {
   "cell_type": "code",
   "execution_count": 34,
   "metadata": {},
   "outputs": [
    {
     "name": "stdout",
     "output_type": "stream",
     "text": [
      "../processed_data/2023_fc1_test.csv, best cutoff: 72, best auroc: 0.605, auroc at 75: 0.595\n",
      "../processed_data/oldPp_fc1_test.csv, best cutoff: 74, best auroc: 0.615, auroc at 75: 0.612\n",
      "../processed_data/old_naive_test.csv, best cutoff: 72, best auroc: 0.657, auroc at 75: 0.653\n",
      "../processed_data_v1.1_notransfer/2023_fc1_test.csv, best cutoff: 72, best auroc: 0.606, auroc at 75: 0.603\n",
      "../processed_data_v1.2_nominlen/2023_fc1_test.csv, best cutoff: 71, best auroc: 0.624, auroc at 75: 0.617\n",
      "../processed_data_v1.2_nominlen/oldPp_fc1_test.csv, best cutoff: 76, best auroc: 0.588, auroc at 75: 0.586\n",
      "../processed_data_v1.2_nominlen/old_naive_test.csv, best cutoff: 72, best auroc: 0.620, auroc at 75: 0.615\n",
      "../processed_data/2023_fc1_test.csv, auroc: 0.620\n",
      "../processed_data/oldPp_fc1_test.csv, auroc: 0.638\n",
      "../processed_data/old_naive_test.csv, auroc: 0.686\n",
      "../processed_data_v1.1_notransfer/2023_fc1_test.csv, auroc: 0.622\n",
      "../processed_data_v1.2_nominlen/2023_fc1_test.csv, auroc: 0.645\n",
      "../processed_data_v1.2_nominlen/oldPp_fc1_test.csv, auroc: 0.575\n",
      "../processed_data_v1.2_nominlen/old_naive_test.csv, auroc: 0.609\n"
     ]
    }
   ],
   "source": [
    "# fixed cut-off\n",
    "for dataset in test_datasets:\n",
    "    best_cutoff = -1\n",
    "    best_auroc = -1\n",
    "    auroc_at_75 = -1\n",
    "    df = pd.read_csv(dataset)\n",
    "    df['seqlen'] = df['SEQ'].apply(len)\n",
    "    for seqlen_cutoff in range(60,250):\n",
    "        df['PRED'] = df.seqlen.map(lambda x: 1 if int(x) < seqlen_cutoff else 0)\n",
    "        df['PRED'] = df.seqlen.map(lambda x: 1 if int(x) < seqlen_cutoff else 0)\n",
    "        fpr, tpr, _ = roc_curve(df['LABEL'], df['PRED'])\n",
    "        auroc = auc(fpr, tpr)\n",
    "        if auroc > best_auroc:\n",
    "            best_auroc = auroc\n",
    "            best_cutoff = seqlen_cutoff\n",
    "        if seqlen_cutoff == 75:\n",
    "            auroc_at_75 = auroc\n",
    "    print(f'{dataset}, best cutoff: {best_cutoff}, best auroc: {best_auroc:.3f}, auroc at 75: {auroc_at_75:.3f}')\n",
    "# predicted percentage based on seq len\n",
    "for dataset in test_datasets:\n",
    "    df = pd.read_csv(dataset)\n",
    "    df['seqlen'] = df['SEQ'].apply(len)\n",
    "    df['PRED'] = df.seqlen.map(lambda x: (200-x)/200)\n",
    "    fpr, tpr, _ = roc_curve(df['LABEL'], df['PRED'])\n",
    "    auroc = auc(fpr, tpr)\n",
    "    print(f'{dataset}, auroc: {auroc:.3f}')\n"
   ]
  },
  {
   "cell_type": "code",
   "execution_count": 43,
   "metadata": {},
   "outputs": [
    {
     "name": "stdout",
     "output_type": "stream",
     "text": [
      "../processed_data/2023_fc1_test.csv, all_frequencies, auroc: 0.636, grouped_frequencies: 0.630, all_with_seqlen: 0.651\n",
      "../processed_data/oldPp_fc1_test.csv, all_frequencies, auroc: 0.631, grouped_frequencies: 0.614, all_with_seqlen: 0.660\n",
      "../processed_data/old_naive_test.csv, all_frequencies, auroc: 0.667, grouped_frequencies: 0.654, all_with_seqlen: 0.703\n",
      "../processed_data_v1.1_notransfer/2023_fc1_test.csv, all_frequencies, auroc: 0.628, grouped_frequencies: 0.625, all_with_seqlen: 0.652\n",
      "../processed_data_v1.2_nominlen/2023_fc1_test.csv, all_frequencies, auroc: 0.606, grouped_frequencies: 0.606, all_with_seqlen: 0.651\n",
      "../processed_data_v1.2_nominlen/oldPp_fc1_test.csv, all_frequencies, auroc: 0.615, grouped_frequencies: 0.615, all_with_seqlen: 0.627\n",
      "../processed_data_v1.2_nominlen/old_naive_test.csv, all_frequencies, auroc: 0.645, grouped_frequencies: 0.641, all_with_seqlen: 0.670\n"
     ]
    }
   ],
   "source": [
    "from sklearn.linear_model import LogisticRegression\n",
    "import warnings \n",
    "warnings.filterwarnings('ignore')\n",
    "# frequency per amino acid into a logistic regression\n",
    "for train_set, test_set in zip(train_datasets, test_datasets):\n",
    "    train_df = pd.read_csv(train_set)\n",
    "    test_df = pd.read_csv(test_set)\n",
    "    train_df['seqlen'] = train_df['SEQ'].apply(len)\n",
    "    test_df['seqlen'] = test_df['SEQ'].apply(len)\n",
    "    for aa in 'ACDEFGHIKLMNPQRSTVWY':\n",
    "        train_df[f'freq_{aa}'] = train_df['SEQ'].apply(lambda x: x.count(aa)/len(x))\n",
    "        test_df[f'freq_{aa}'] = test_df['SEQ'].apply(lambda x: x.count(aa)/len(x))\n",
    "    \n",
    "    train_df['combined_freq_FLMWYI'] = train_df['freq_F'] + train_df['freq_L'] + train_df['freq_M'] + train_df['freq_W'] + train_df['freq_Y'] + train_df['freq_I']\n",
    "    train_df['combined_freq_KRH'] = train_df['freq_K'] + train_df['freq_R'] + train_df['freq_H']\n",
    "    train_df['combined_freq_DEST'] = train_df['freq_D'] + train_df['freq_E'] + train_df['freq_S'] + train_df['freq_T']\n",
    "    train_df['seqlen_pct'] = train_df['seqlen'].map(lambda x: (200-x)/200)\n",
    "    test_df['combined_freq_FLMWYI'] = test_df['freq_F'] + test_df['freq_L'] + test_df['freq_M'] + test_df['freq_W'] + test_df['freq_Y'] + test_df['freq_I']\n",
    "    test_df['combined_freq_KRH'] = test_df['freq_K'] + test_df['freq_R'] + test_df['freq_H']\n",
    "    test_df['combined_freq_DEST'] = test_df['freq_D'] + test_df['freq_E'] + test_df['freq_S'] + test_df['freq_T']\n",
    "    test_df['seqlen_pct'] = test_df['seqlen'].map(lambda x: (200-x)/200)\n",
    "\n",
    "    best_auroc, best_auroc_grouped, best_auroc_full = -1, -1, -1\n",
    "    for C in [0.01, 0.1, 1, 10, 100]:\n",
    "        clf = LogisticRegression(C=C, class_weight=\"balanced\")\n",
    "        clf.fit(train_df[[f'freq_{aa}' for aa in 'ACDEFGHIKLMNPQRSTVWY']], train_df['LABEL'])\n",
    "        test_df['PRED'] = clf.predict(test_df[[f'freq_{aa}' for aa in 'ACDEFGHIKLMNPQRSTVWY']])\n",
    "        fpr, tpr, _ = roc_curve(test_df['LABEL'], test_df['PRED'])\n",
    "        auroc = auc(fpr, tpr)\n",
    "        if auroc > best_auroc:\n",
    "            best_auroc = auroc\n",
    "\n",
    "        clf = LogisticRegression(C=C, class_weight=\"balanced\")\n",
    "        clf.fit(train_df[['combined_freq_FLMWYI', 'combined_freq_KRH', 'combined_freq_DEST']], train_df['LABEL'])\n",
    "        test_df['PRED_GROUPED'] = clf.predict(test_df[[f'combined_freq_FLMWYI', 'combined_freq_KRH', 'combined_freq_DEST']])\n",
    "        fpr, tpr, _ = roc_curve(test_df['LABEL'], test_df['PRED_GROUPED'])\n",
    "        auroc_grouped = auc(fpr, tpr)\n",
    "        if auroc_grouped > best_auroc_grouped:\n",
    "            best_auroc_grouped = auroc_grouped\n",
    "\n",
    "        clf = LogisticRegression(C=C, class_weight=\"balanced\")\n",
    "        clf.fit(train_df[[f'freq_{aa}' for aa in 'ACDEFGHIKLMNPQRSTVWY'] + ['seqlen_pct']], train_df['LABEL'])\n",
    "        test_df['PRED_FULL'] = clf.predict(test_df[[f'freq_{aa}' for aa in 'ACDEFGHIKLMNPQRSTVWY'] + ['seqlen_pct']])\n",
    "        fpr, tpr, _ = roc_curve(test_df['LABEL'], test_df['PRED_FULL'])\n",
    "        auroc_full = auc(fpr, tpr)\n",
    "        if auroc_full > best_auroc_full:\n",
    "            best_auroc_full = auroc_full\n",
    "    \n",
    "    print(f'{test_set}, all_frequencies, auroc: {best_auroc:.3f}, grouped_frequencies: {best_auroc_grouped:.3f}, all_with_seqlen: {best_auroc_full:.3f}')"
   ]
  }
 ],
 "metadata": {
  "kernelspec": {
   "display_name": "base",
   "language": "python",
   "name": "python3"
  },
  "language_info": {
   "codemirror_mode": {
    "name": "ipython",
    "version": 3
   },
   "file_extension": ".py",
   "mimetype": "text/x-python",
   "name": "python",
   "nbconvert_exporter": "python",
   "pygments_lexer": "ipython3",
   "version": "3.10.12"
  }
 },
 "nbformat": 4,
 "nbformat_minor": 2
}
